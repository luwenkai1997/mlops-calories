{
 "cells": [
  {
   "cell_type": "code",
   "execution_count": 1,
   "id": "26597045-ee92-4891-acd6-d202ab83208f",
   "metadata": {
    "execution": {
     "iopub.execute_input": "2025-08-05T20:30:02.526846Z",
     "iopub.status.busy": "2025-08-05T20:30:02.526511Z",
     "iopub.status.idle": "2025-08-05T20:30:03.259029Z",
     "shell.execute_reply": "2025-08-05T20:30:03.257987Z",
     "shell.execute_reply.started": "2025-08-05T20:30:02.526819Z"
    }
   },
   "outputs": [
    {
     "data": {
      "text/html": [
       "<div>\n",
       "<style scoped>\n",
       "    .dataframe tbody tr th:only-of-type {\n",
       "        vertical-align: middle;\n",
       "    }\n",
       "\n",
       "    .dataframe tbody tr th {\n",
       "        vertical-align: top;\n",
       "    }\n",
       "\n",
       "    .dataframe thead th {\n",
       "        text-align: right;\n",
       "    }\n",
       "</style>\n",
       "<table border=\"1\" class=\"dataframe\">\n",
       "  <thead>\n",
       "    <tr style=\"text-align: right;\">\n",
       "      <th></th>\n",
       "      <th>User_ID</th>\n",
       "      <th>Gender</th>\n",
       "      <th>Age</th>\n",
       "      <th>Height</th>\n",
       "      <th>Weight</th>\n",
       "      <th>Duration</th>\n",
       "      <th>Heart_Rate</th>\n",
       "      <th>Body_Temp</th>\n",
       "      <th>Calories</th>\n",
       "    </tr>\n",
       "  </thead>\n",
       "  <tbody>\n",
       "    <tr>\n",
       "      <th>0</th>\n",
       "      <td>14733363</td>\n",
       "      <td>male</td>\n",
       "      <td>68</td>\n",
       "      <td>190.0</td>\n",
       "      <td>94.0</td>\n",
       "      <td>29.0</td>\n",
       "      <td>105.0</td>\n",
       "      <td>40.8</td>\n",
       "      <td>231.0</td>\n",
       "    </tr>\n",
       "    <tr>\n",
       "      <th>1</th>\n",
       "      <td>14861698</td>\n",
       "      <td>female</td>\n",
       "      <td>20</td>\n",
       "      <td>166.0</td>\n",
       "      <td>60.0</td>\n",
       "      <td>14.0</td>\n",
       "      <td>94.0</td>\n",
       "      <td>40.3</td>\n",
       "      <td>66.0</td>\n",
       "    </tr>\n",
       "    <tr>\n",
       "      <th>2</th>\n",
       "      <td>11179863</td>\n",
       "      <td>male</td>\n",
       "      <td>69</td>\n",
       "      <td>179.0</td>\n",
       "      <td>79.0</td>\n",
       "      <td>5.0</td>\n",
       "      <td>88.0</td>\n",
       "      <td>38.7</td>\n",
       "      <td>26.0</td>\n",
       "    </tr>\n",
       "    <tr>\n",
       "      <th>3</th>\n",
       "      <td>16180408</td>\n",
       "      <td>female</td>\n",
       "      <td>34</td>\n",
       "      <td>179.0</td>\n",
       "      <td>71.0</td>\n",
       "      <td>13.0</td>\n",
       "      <td>100.0</td>\n",
       "      <td>40.5</td>\n",
       "      <td>71.0</td>\n",
       "    </tr>\n",
       "    <tr>\n",
       "      <th>4</th>\n",
       "      <td>17771927</td>\n",
       "      <td>female</td>\n",
       "      <td>27</td>\n",
       "      <td>154.0</td>\n",
       "      <td>58.0</td>\n",
       "      <td>10.0</td>\n",
       "      <td>81.0</td>\n",
       "      <td>39.8</td>\n",
       "      <td>35.0</td>\n",
       "    </tr>\n",
       "  </tbody>\n",
       "</table>\n",
       "</div>"
      ],
      "text/plain": [
       "    User_ID  Gender  Age  Height  Weight  Duration  Heart_Rate  Body_Temp  \\\n",
       "0  14733363    male   68   190.0    94.0      29.0       105.0       40.8   \n",
       "1  14861698  female   20   166.0    60.0      14.0        94.0       40.3   \n",
       "2  11179863    male   69   179.0    79.0       5.0        88.0       38.7   \n",
       "3  16180408  female   34   179.0    71.0      13.0       100.0       40.5   \n",
       "4  17771927  female   27   154.0    58.0      10.0        81.0       39.8   \n",
       "\n",
       "   Calories  \n",
       "0     231.0  \n",
       "1      66.0  \n",
       "2      26.0  \n",
       "3      71.0  \n",
       "4      35.0  "
      ]
     },
     "execution_count": 1,
     "metadata": {},
     "output_type": "execute_result"
    }
   ],
   "source": [
    "import pandas as pd\n",
    "\n",
    "s3_uri = \"s3://amazon-sagemaker-730335348097-us-east-1-028ed1706034/data/calories.csv\"\n",
    "df = pd.read_csv(s3_uri)\n",
    "df.head()"
   ]
  },
  {
   "cell_type": "code",
   "execution_count": 6,
   "id": "2b0f5cc2-5dd9-45c8-95a3-0ed6466a265a",
   "metadata": {
    "execution": {
     "iopub.execute_input": "2025-08-05T21:14:50.069525Z",
     "iopub.status.busy": "2025-08-05T21:14:50.069158Z",
     "iopub.status.idle": "2025-08-05T21:14:50.232431Z",
     "shell.execute_reply": "2025-08-05T21:14:50.231547Z",
     "shell.execute_reply.started": "2025-08-05T21:14:50.069495Z"
    }
   },
   "outputs": [
    {
     "name": "stdout",
     "output_type": "stream",
     "text": [
      "Reinitialized existing Git repository in /home/sagemaker-user/src/mlops-calories/notebooks/.git/\n"
     ]
    }
   ],
   "source": [
    "# 1. Init Git\n",
    "!git init"
   ]
  },
  {
   "cell_type": "code",
   "execution_count": 7,
   "id": "88d5088b-5104-4725-894c-80e9592ceb56",
   "metadata": {
    "execution": {
     "iopub.execute_input": "2025-08-05T21:15:07.176986Z",
     "iopub.status.busy": "2025-08-05T21:15:07.176691Z",
     "iopub.status.idle": "2025-08-05T21:15:09.232904Z",
     "shell.execute_reply": "2025-08-05T21:15:09.231932Z",
     "shell.execute_reply.started": "2025-08-05T21:15:07.176958Z"
    }
   },
   "outputs": [],
   "source": [
    "# 2. Install DVC with S3 support (ignore the fsspec warning for now)\n",
    "!pip install 'dvc[s3]' --quiet"
   ]
  },
  {
   "cell_type": "code",
   "execution_count": 9,
   "id": "a93b58c6-9866-4daa-a632-25b600131432",
   "metadata": {
    "execution": {
     "iopub.execute_input": "2025-08-05T21:15:48.916165Z",
     "iopub.status.busy": "2025-08-05T21:15:48.915806Z",
     "iopub.status.idle": "2025-08-05T21:15:49.809549Z",
     "shell.execute_reply": "2025-08-05T21:15:49.808494Z",
     "shell.execute_reply.started": "2025-08-05T21:15:48.916138Z"
    }
   },
   "outputs": [
    {
     "name": "stdout",
     "output_type": "stream",
     "text": [
      "Initialized DVC repository.\n",
      "\n",
      "You can now commit the changes to git.\n",
      "\n",
      "\u001b[31m+---------------------------------------------------------------------+\n",
      "\u001b[0m\u001b[31m|\u001b[0m                                                                     \u001b[31m|\u001b[0m\n",
      "\u001b[31m|\u001b[0m        DVC has enabled anonymous aggregate usage analytics.         \u001b[31m|\u001b[0m\n",
      "\u001b[31m|\u001b[0m     Read the analytics documentation (and how to opt-out) here:     \u001b[31m|\u001b[0m\n",
      "\u001b[31m|\u001b[0m             <\u001b[36mhttps://dvc.org/doc/user-guide/analytics\u001b[39m>              \u001b[31m|\u001b[0m\n",
      "\u001b[31m|\u001b[0m                                                                     \u001b[31m|\u001b[0m\n",
      "\u001b[31m+---------------------------------------------------------------------+\n",
      "\u001b[0m\n",
      "\u001b[33mWhat's next?\u001b[39m\n",
      "\u001b[33m------------\u001b[39m\n",
      "- Check out the documentation: <\u001b[36mhttps://dvc.org/doc\u001b[39m>\n",
      "- Get help and share ideas: <\u001b[36mhttps://dvc.org/chat\u001b[39m>\n",
      "- Star us on GitHub: <\u001b[36mhttps://github.com/iterative/dvc\u001b[39m>\n",
      "\u001b[0m"
     ]
    }
   ],
   "source": [
    "# 3. Init DVC inside Git repo\n",
    "!dvc init -f"
   ]
  },
  {
   "cell_type": "code",
   "execution_count": 12,
   "id": "dceacb4c-429c-44a8-8513-c4295b84e347",
   "metadata": {
    "execution": {
     "iopub.execute_input": "2025-08-05T21:25:51.030290Z",
     "iopub.status.busy": "2025-08-05T21:25:51.029928Z",
     "iopub.status.idle": "2025-08-05T21:25:52.666273Z",
     "shell.execute_reply": "2025-08-05T21:25:52.665168Z",
     "shell.execute_reply.started": "2025-08-05T21:25:51.030263Z"
    }
   },
   "outputs": [
    {
     "name": "stdout",
     "output_type": "stream",
     "text": [
      "Setting 'myremote' as a default remote.\n",
      "\u001b[0m\u001b[0m"
     ]
    }
   ],
   "source": [
    "# 4. Set up S3 as DVC remote\n",
    "!dvc remote add -f -d myremote s3://amazon-sagemaker-730353348097-us-east-1-028ed1706034/dvcstore\n",
    "!dvc remote modify myremote endpointurl https://s3.amazonaws.com"
   ]
  },
  {
   "cell_type": "markdown",
   "id": "71b99856-ae38-429e-9217-5747759f18d0",
   "metadata": {},
   "source": [
    "### Create Dataset"
   ]
  },
  {
   "cell_type": "code",
   "execution_count": 13,
   "id": "960a20a5-7229-4fdf-9d58-7f37d59a4c64",
   "metadata": {
    "execution": {
     "iopub.execute_input": "2025-08-05T21:28:05.305008Z",
     "iopub.status.busy": "2025-08-05T21:28:05.304739Z",
     "iopub.status.idle": "2025-08-05T21:28:05.442064Z",
     "shell.execute_reply": "2025-08-05T21:28:05.441394Z",
     "shell.execute_reply.started": "2025-08-05T21:28:05.304982Z"
    }
   },
   "outputs": [],
   "source": [
    "# Create 80% subset\n",
    "df_80 = df.iloc[:int(0.8 * len(df))]\n",
    "\n",
    "# Save locally\n",
    "df_80.to_csv(\"calories_v1.csv\", index=False)\n",
    "df.to_csv(\"calories_full.csv\", index=False)"
   ]
  },
  {
   "cell_type": "markdown",
   "id": "ec13e2e0-5ddb-4b29-885b-0a3af9a72236",
   "metadata": {},
   "source": [
    "### Track with DVC"
   ]
  },
  {
   "cell_type": "code",
   "execution_count": 14,
   "id": "03903132-f312-4cf5-998e-ddf49d116dcd",
   "metadata": {
    "execution": {
     "iopub.execute_input": "2025-08-05T21:28:43.243149Z",
     "iopub.status.busy": "2025-08-05T21:28:43.242801Z",
     "iopub.status.idle": "2025-08-05T21:28:45.954328Z",
     "shell.execute_reply": "2025-08-05T21:28:45.953273Z",
     "shell.execute_reply.started": "2025-08-05T21:28:43.243126Z"
    }
   },
   "outputs": [
    {
     "name": "stdout",
     "output_type": "stream",
     "text": [
      "\u001b[?25l\u001b[32m⠋\u001b[0m Checking graph\n",
      "Adding...                                                                       \n",
      "!\u001b[A\n",
      "Collecting files and computing hashes in calories_v1.csv |0.00 [00:00,     ?file\u001b[A\n",
      "                                                                                \u001b[A\n",
      "!\u001b[A\n",
      "  0% Checking cache in '/home/sagemaker-user/src/mlops-calories/notebooks/.dvc/c\u001b[A\n",
      "                                                                                \u001b[A\n",
      "!\u001b[A\n",
      "  0%|          |Adding calories_v1.csv to cache       0/1 [00:00<?,     ?file/s]\u001b[A\n",
      "                                                                                \u001b[A\n",
      "!\u001b[A\n",
      "  0%|          |Checking out /home/sagemaker-user/src/0/1 [00:00<?,    ?files/s]\u001b[A\n",
      "100% Adding...|████████████████████████████████████████|1/1 [00:00, 12.54file/s]\u001b[A\n",
      "\n",
      "To track the changes with git, run:\n",
      "\n",
      "\tgit add calories_v1.csv.dvc .gitignore\n",
      "\n",
      "To enable auto staging, run:\n",
      "\n",
      "\tdvc config core.autostage true\n",
      "\u001b[?25l\u001b[32m⠋\u001b[0m Checking graph\n",
      "Adding...                                                                       \n",
      "!\u001b[A\n",
      "Collecting files and computing hashes in calories_full.csv |0.00 [00:00,     ?fi\u001b[A\n",
      "                                                                                \u001b[A\n",
      "!\u001b[A\n",
      "  0% Checking cache in '/home/sagemaker-user/src/mlops-calories/notebooks/.dvc/c\u001b[A\n",
      "                                                                                \u001b[A\n",
      "!\u001b[A\n",
      "  0%|          |Adding calories_full.csv to cache     0/1 [00:00<?,     ?file/s]\u001b[A\n",
      "                                                                                \u001b[A\n",
      "!\u001b[A\n",
      "  0%|          |Checking out /home/sagemaker-user/src/0/1 [00:00<?,    ?files/s]\u001b[A\n",
      "100% Adding...|████████████████████████████████████████|1/1 [00:00, 23.94file/s]\u001b[A\n",
      "\n",
      "To track the changes with git, run:\n",
      "\n",
      "\tgit add .gitignore calories_full.csv.dvc\n",
      "\n",
      "To enable auto staging, run:\n",
      "\n",
      "\tdvc config core.autostage true\n",
      "\u001b[0m"
     ]
    }
   ],
   "source": [
    "# This generates .dvc files (calories_v1.csv.dvc and calories_full.csv.dvc)\n",
    "!dvc add calories_v1.csv\n",
    "!dvc add calories_full.csv"
   ]
  },
  {
   "cell_type": "markdown",
   "id": "f592a819-e5e6-4bd1-8bb3-21d7ebd6c374",
   "metadata": {},
   "source": [
    "### Push to Remote Storage"
   ]
  },
  {
   "cell_type": "markdown",
   "id": "f66ed461-7f69-4173-92f0-de08ca5e3bd3",
   "metadata": {},
   "source": [
    "✅ Created a new, valid S3 bucket (dvc-store-bucket)\n",
    "\n",
    "✅ Configured .dvc/config with the correct remote URL\n",
    "\n",
    "✅ Ran dvc push successfully — your data is now versioned in the cloud!"
   ]
  },
  {
   "cell_type": "code",
   "execution_count": 41,
   "id": "cd467879-a9c7-48af-9053-6c2d3ac6d80a",
   "metadata": {
    "execution": {
     "iopub.execute_input": "2025-08-05T21:58:38.256000Z",
     "iopub.status.busy": "2025-08-05T21:58:38.255210Z",
     "iopub.status.idle": "2025-08-05T21:58:39.869200Z",
     "shell.execute_reply": "2025-08-05T21:58:39.868208Z",
     "shell.execute_reply.started": "2025-08-05T21:58:38.255966Z"
    }
   },
   "outputs": [
    {
     "name": "stdout",
     "output_type": "stream",
     "text": [
      "\u001b[0m\u001b[0m"
     ]
    }
   ],
   "source": [
    "!dvc remote remove myremote --global || echo \"already removed\"\n",
    "!dvc remote remove myremote --local || echo \"already removed\""
   ]
  },
  {
   "cell_type": "code",
   "execution_count": 42,
   "id": "7f67b156-f3e7-4a1d-a23c-ddfd9c6775a7",
   "metadata": {
    "execution": {
     "iopub.execute_input": "2025-08-05T21:58:50.809992Z",
     "iopub.status.busy": "2025-08-05T21:58:50.809454Z",
     "iopub.status.idle": "2025-08-05T21:58:52.400584Z",
     "shell.execute_reply": "2025-08-05T21:58:52.399430Z",
     "shell.execute_reply.started": "2025-08-05T21:58:50.809962Z"
    }
   },
   "outputs": [
    {
     "name": "stdout",
     "output_type": "stream",
     "text": [
      "Setting 'myremote' as a default remote.\n",
      "\u001b[0m\u001b[0m"
     ]
    }
   ],
   "source": [
    "!dvc remote add -f -d myremote s3://dvc-store-bucket --global\n",
    "!dvc remote modify myremote endpointurl https://s3.amazonaws.com --global"
   ]
  },
  {
   "cell_type": "code",
   "execution_count": 43,
   "id": "bc56cdc3-d238-48d0-8d26-159cfa835e40",
   "metadata": {
    "execution": {
     "iopub.execute_input": "2025-08-05T21:59:01.118318Z",
     "iopub.status.busy": "2025-08-05T21:59:01.117932Z",
     "iopub.status.idle": "2025-08-05T21:59:01.291211Z",
     "shell.execute_reply": "2025-08-05T21:59:01.289297Z",
     "shell.execute_reply.started": "2025-08-05T21:59:01.118284Z"
    }
   },
   "outputs": [
    {
     "name": "stdout",
     "output_type": "stream",
     "text": [
      "[core]\n",
      "    remote = myremote\n",
      "['remote \"myremote\"']\n",
      "    url = s3://dvc-store-bucket\n",
      "    endpointurl = https://s3.amazonaws.com\n"
     ]
    }
   ],
   "source": [
    "!cat ~/.config/dvc/config"
   ]
  },
  {
   "cell_type": "code",
   "execution_count": 44,
   "id": "09b8a52c-477d-4f80-b8d7-cb2f55ad3473",
   "metadata": {
    "editable": true,
    "execution": {
     "iopub.execute_input": "2025-08-05T22:05:12.529467Z",
     "iopub.status.busy": "2025-08-05T22:05:12.528842Z",
     "iopub.status.idle": "2025-08-05T22:05:14.359132Z",
     "shell.execute_reply": "2025-08-05T22:05:14.358097Z",
     "shell.execute_reply.started": "2025-08-05T22:05:12.529431Z"
    },
    "slideshow": {
     "slide_type": ""
    },
    "tags": []
   },
   "outputs": [
    {
     "name": "stdout",
     "output_type": "stream",
     "text": [
      "\u001b[34m2025-08-05 22:05:12,726\u001b[39m \u001b[34mDEBUG\u001b[39m: v3.61.0 (pip), CPython 3.11.11 on Linux-5.10.238-231.953.amzn2.x86_64-x86_64-with-glibc2.35\n",
      "\u001b[34m2025-08-05 22:05:12,727\u001b[39m \u001b[34mDEBUG\u001b[39m: command: /opt/conda/bin/dvc push -v\n",
      "Collecting                                            |2.00 [00:00,  171entry/s]\n",
      "\u001b[34m2025-08-05 22:05:13,092\u001b[39m \u001b[34mDEBUG\u001b[39m: Preparing to transfer data from '/home/sagemaker-user/src/mlops-calories/notebooks/.dvc/cache/files/md5' to 's3://dvc-store-bucket/files/md5'\n",
      "\u001b[34m2025-08-05 22:05:13,092\u001b[39m \u001b[34mDEBUG\u001b[39m: Preparing to collect status from 'dvc-store-bucket/files/md5'\n",
      "\u001b[34m2025-08-05 22:05:13,092\u001b[39m \u001b[34mDEBUG\u001b[39m: Collecting status from 'dvc-store-bucket/files/md5'\n",
      "Pushing\n",
      "!\u001b[A\n",
      "       ecking cache in 'dvc-store-bucket/files/md5'| |0/? [00:00<?,    ?files/s]\u001b[A\n",
      "\u001b[A\u001b[34m2025-08-05 22:05:13,515\u001b[39m \u001b[34mDEBUG\u001b[39m: Estimated remote size: 4096 files\n",
      "Pushing\n",
      "       ecking cache in 'dvc-store-bucket/files/md5'| |0/? [00:00<?,    ?files/s]\u001b[A\n",
      "\u001b[A\u001b[34m2025-08-05 22:05:13,516\u001b[39m \u001b[34mDEBUG\u001b[39m: Large remote (2 oids < 4.096 traverse weight), using object_exists for remaining oids\n",
      "Pushing\n",
      "       ecking cache in 'dvc-store-bucket/files/md5'| |0/? [00:00<?,    ?files/s]\u001b[A\n",
      "\u001b[A\u001b[34m2025-08-05 22:05:13,516\u001b[39m \u001b[34mDEBUG\u001b[39m: Querying 2 oids via object_exists\n",
      "Pushing\n",
      "  0% Checking cache in 'dvc-store-bucket/files/md5'| |0/? [00:00<?,    ?files/s]\u001b[A\n",
      "\u001b[34m2025-08-05 22:05:13,576\u001b[39m \u001b[34mDEBUG\u001b[39m: Preparing to collect status from '/home/sagemaker-user/src/mlops-calories/notebooks/.dvc/cache/files/md5'\n",
      "\u001b[34m2025-08-05 22:05:13,576\u001b[39m \u001b[34mDEBUG\u001b[39m: Collecting status from '/home/sagemaker-user/src/mlops-calories/notebooks/.dvc/cache/files/md5'\n",
      "Pushing\n",
      "!\u001b[A\n",
      "  0% Checking cache in '/home/sagemaker-user/src/mlops-calories/notebooks/.dvc/c\u001b[A\n",
      "                                                                                \u001b[A\n",
      "!\u001b[A\n",
      "  0%|          |Pushing to s3                         0/2 [00:00<?,     ?file/s]\u001b[A\n",
      "\n",
      "!\u001b[A\u001b[A\n",
      "\n",
      "  0%|          |/home/sagemaker-user/src/mlops-c0.00/725k [00:00<?,        ?B/s]\u001b[A\u001b[A\n",
      "\n",
      "100%|██████████|/home/sagemaker-user/src/mlo725k/725k [00:00<00:00,    6.86MB/s]\u001b[A\u001b[A\n",
      "\n",
      "                                                                                \u001b[A\u001b[A\n",
      " 50%|█████     |Pushing to s3                     1/2 [00:00<00:00,  6.87file/s]\u001b[A\n",
      "\n",
      "!\u001b[A\u001b[A\n",
      "\n",
      "  0%|          |/home/sagemaker-user/src/mlops-c0.00/580k [00:00<?,        ?B/s]\u001b[A\u001b[A\n",
      "\n",
      "100%|██████████|/home/sagemaker-user/src/mlo580k/580k [00:00<00:00,    4.57MB/s]\u001b[A\u001b[A\n",
      "\n",
      "                                                                                \u001b[A\u001b[A\n",
      "100%|██████████|Pushing to s3                     2/2 [00:00<00:00,  7.27file/s]\u001b[A\n",
      "Pushing                                                                         \u001b[A\n",
      "2 files pushed\n",
      "\u001b[34m2025-08-05 22:05:13,879\u001b[39m \u001b[34mDEBUG\u001b[39m: Analytics is enabled.\n",
      "\u001b[34m2025-08-05 22:05:13,925\u001b[39m \u001b[34mDEBUG\u001b[39m: Trying to spawn ['daemon', 'analytics', '/tmp/tmp1bu7h5hu', '-v']\n",
      "\u001b[34m2025-08-05 22:05:13,935\u001b[39m \u001b[34mDEBUG\u001b[39m: Spawned ['daemon', 'analytics', '/tmp/tmp1bu7h5hu', '-v'] with pid 12293\n",
      "\u001b[0m"
     ]
    }
   ],
   "source": [
    "!dvc push -v"
   ]
  },
  {
   "cell_type": "code",
   "execution_count": 45,
   "id": "70d8b72d-378c-4dfe-bb5d-4bf56e9d84a7",
   "metadata": {
    "execution": {
     "iopub.execute_input": "2025-08-05T22:09:01.645611Z",
     "iopub.status.busy": "2025-08-05T22:09:01.645052Z",
     "iopub.status.idle": "2025-08-05T22:09:01.653471Z",
     "shell.execute_reply": "2025-08-05T22:09:01.652082Z",
     "shell.execute_reply.started": "2025-08-05T22:09:01.645577Z"
    }
   },
   "outputs": [],
   "source": [
    "# DVC cache was successfully pushed to your new S3 bucket (dvc-store-bucket). The presence of hashed files like: 3f43e706cf11f89c8b966cea1d0317 under the files/md5/11/ path is exactly what DVC uses to store and version data blobs."
   ]
  },
  {
   "cell_type": "markdown",
   "id": "af00296f-4b41-4f47-b6cc-126b57793f00",
   "metadata": {},
   "source": [
    "### Download versioned data from remote"
   ]
  },
  {
   "cell_type": "code",
   "execution_count": 47,
   "id": "dd3088f5-aa27-43dd-8d03-ff5d10952ed1",
   "metadata": {
    "execution": {
     "iopub.execute_input": "2025-08-05T22:12:36.716925Z",
     "iopub.status.busy": "2025-08-05T22:12:36.716295Z",
     "iopub.status.idle": "2025-08-05T22:12:39.245756Z",
     "shell.execute_reply": "2025-08-05T22:12:39.244723Z",
     "shell.execute_reply.started": "2025-08-05T22:12:36.716897Z"
    }
   },
   "outputs": [
    {
     "name": "stdout",
     "output_type": "stream",
     "text": [
      "Collecting                                            |2.00 [00:00,  224entry/s]\n",
      "Fetching\n",
      "!\u001b[A\n",
      "  0% Checking cache in '/home/sagemaker-user/src/mlops-calories/notebooks/.dvc/c\u001b[A\n",
      "Fetching                                                                        \u001b[A\n",
      "Building workspace index                              |2.00 [00:00,  168entry/s]\n",
      "Comparing indexes                                     |3.00 [00:00,  621entry/s]\n",
      "Applying changes                                      |0.00 [00:00,     ?file/s]\n",
      "Everything is up to date.\n",
      "Data and pipelines are up to date.                                              \n",
      "\u001b[0m"
     ]
    }
   ],
   "source": [
    "!dvc pull\n",
    "!dvc status"
   ]
  },
  {
   "cell_type": "markdown",
   "id": "cf9d088c-f7af-4c53-b660-924417bc0a83",
   "metadata": {},
   "source": [
    "### Commit .dvc and .gitignore files"
   ]
  },
  {
   "cell_type": "code",
   "execution_count": 48,
   "id": "9f178667-a7ae-4965-b112-124d2c3a0daa",
   "metadata": {
    "execution": {
     "iopub.execute_input": "2025-08-05T22:13:12.863013Z",
     "iopub.status.busy": "2025-08-05T22:13:12.862472Z",
     "iopub.status.idle": "2025-08-05T22:13:13.359990Z",
     "shell.execute_reply": "2025-08-05T22:13:13.359083Z",
     "shell.execute_reply.started": "2025-08-05T22:13:12.862986Z"
    }
   },
   "outputs": [
    {
     "name": "stdout",
     "output_type": "stream",
     "text": [
      "[master (root-commit) 574f2bd] Track data with DVC and configure remote storage\n",
      " 6 files changed, 18 insertions(+)\n",
      " create mode 100644 .dvc/.gitignore\n",
      " create mode 100644 .dvc/config\n",
      " create mode 100644 .dvcignore\n",
      " create mode 100644 .gitignore\n",
      " create mode 100644 calories_full.csv.dvc\n",
      " create mode 100644 calories_v1.csv.dvc\n",
      "fatal: No configured push destination.\n",
      "Either specify the URL from the command-line or configure a remote repository using\n",
      "\n",
      "    git remote add <name> <url>\n",
      "\n",
      "and then push using the remote name\n",
      "\n",
      "    git push <name>\n",
      "\n"
     ]
    }
   ],
   "source": [
    "!git add *.dvc .gitignore\n",
    "!git commit -m \"Track data with DVC and configure remote storage\"\n",
    "!git push"
   ]
  },
  {
   "cell_type": "code",
   "execution_count": null,
   "id": "bc26fd76-207a-4fd3-817e-d59de3c5b2f5",
   "metadata": {},
   "outputs": [],
   "source": []
  },
  {
   "cell_type": "code",
   "execution_count": 1,
   "id": "47ee3828-84ee-4148-845a-f038bcb2711b",
   "metadata": {
    "execution": {
     "iopub.execute_input": "2025-08-05T22:39:16.084422Z",
     "iopub.status.busy": "2025-08-05T22:39:16.083963Z",
     "iopub.status.idle": "2025-08-05T22:39:16.248718Z",
     "shell.execute_reply": "2025-08-05T22:39:16.247965Z",
     "shell.execute_reply.started": "2025-08-05T22:39:16.084391Z"
    }
   },
   "outputs": [],
   "source": [
    "# Reset the remote to SSH\n",
    "!git remote set-url origin git@github.com:luwenkai1997/mlops-calories.git"
   ]
  },
  {
   "cell_type": "code",
   "execution_count": null,
   "id": "d40b4a9a-47a4-47e5-93b1-d29a426f9fd8",
   "metadata": {
    "editable": true,
    "slideshow": {
     "slide_type": ""
    },
    "tags": []
   },
   "outputs": [],
   "source": []
  },
  {
   "cell_type": "code",
   "execution_count": null,
   "id": "7a9088d0-ba2a-4881-b06a-57c7f03001c0",
   "metadata": {},
   "outputs": [],
   "source": []
  },
  {
   "cell_type": "markdown",
   "id": "ae7e03aa-ee80-48d5-99cd-e3c6176a8257",
   "metadata": {},
   "source": [
    "### Compare two versions of data tracked with DVC and evaluate model performance"
   ]
  },
  {
   "cell_type": "code",
   "execution_count": 1,
   "id": "560bf87c-88c0-41e0-b797-bd74ba3fc2f5",
   "metadata": {
    "execution": {
     "iopub.execute_input": "2025-08-05T23:08:57.189503Z",
     "iopub.status.busy": "2025-08-05T23:08:57.188885Z",
     "iopub.status.idle": "2025-08-05T23:08:57.514416Z",
     "shell.execute_reply": "2025-08-05T23:08:57.513657Z",
     "shell.execute_reply.started": "2025-08-05T23:08:57.189471Z"
    }
   },
   "outputs": [
    {
     "name": "stdout",
     "output_type": "stream",
     "text": [
      "[master e878f96] Track calories_v1 and calories_full with DVC\n",
      " 1 file changed, 1 insertion(+)\n"
     ]
    }
   ],
   "source": [
    "# Commit .dvc files and .gitignore to Git\n",
    "\n",
    "!git add calories_v1.csv.dvc calories_full.csv.dvc .gitignore\n",
    "!git commit -m \"Track calories_v1 and calories_full with DVC\""
   ]
  },
  {
   "cell_type": "code",
   "execution_count": 2,
   "id": "073d60b1-0df2-43c0-87b7-dad33929f908",
   "metadata": {
    "execution": {
     "iopub.execute_input": "2025-08-05T23:09:00.925069Z",
     "iopub.status.busy": "2025-08-05T23:09:00.924782Z",
     "iopub.status.idle": "2025-08-05T23:09:03.447606Z",
     "shell.execute_reply": "2025-08-05T23:09:03.446417Z",
     "shell.execute_reply.started": "2025-08-05T23:09:00.925041Z"
    }
   },
   "outputs": [
    {
     "name": "stdout",
     "output_type": "stream",
     "text": [
      "\u001b[?25l\u001b[32m⠋\u001b[0m Checking graph\n",
      "Adding...                                                                       \n",
      "!\u001b[A\n",
      "Collecting files and computing hashes in data.csv     |0.00 [00:00,     ?file/s]\u001b[A\n",
      "                                                                                \u001b[A\n",
      "!\u001b[A\n",
      "  0% Checking cache in '/home/sagemaker-user/src/mlops-calories/notebooks/.dvc/c\u001b[A\n",
      "                                                                                \u001b[A\n",
      "!\u001b[A\n",
      "  0%|          |Checking out /home/sagemaker-user/src/0/1 [00:00<?,    ?files/s]\u001b[A\n",
      "100% Adding...|████████████████████████████████████████|1/1 [00:00, 12.09file/s]\u001b[A\n",
      "\n",
      "To track the changes with git, run:\n",
      "\n",
      "\tgit add data.csv.dvc\n",
      "\n",
      "To enable auto staging, run:\n",
      "\n",
      "\tdvc config core.autostage true\n",
      "\u001b[0m[master 10aaaea] Use calories_v1.csv as data.csv for v1\n",
      " 1 file changed, 2 insertions(+), 2 deletions(-)\n",
      "fatal: tag 'v1' already exists\n"
     ]
    }
   ],
   "source": [
    "# Tag version 1 (v1) using calories_v1.csv\n",
    "\n",
    "!cp calories_v1.csv data.csv\n",
    "!dvc add data.csv\n",
    "!git add data.csv.dvc\n",
    "!git commit -m \"Use calories_v1.csv as data.csv for v1\"\n",
    "!git tag v1\n"
   ]
  },
  {
   "cell_type": "code",
   "execution_count": 3,
   "id": "ba08421a-1909-45a6-bcba-04dd0088585f",
   "metadata": {
    "execution": {
     "iopub.execute_input": "2025-08-05T23:09:06.047610Z",
     "iopub.status.busy": "2025-08-05T23:09:06.047244Z",
     "iopub.status.idle": "2025-08-05T23:09:07.865913Z",
     "shell.execute_reply": "2025-08-05T23:09:07.865018Z",
     "shell.execute_reply.started": "2025-08-05T23:09:06.047582Z"
    }
   },
   "outputs": [
    {
     "name": "stdout",
     "output_type": "stream",
     "text": [
      "\u001b[?25l\u001b[32m⠋\u001b[0m Checking graph\n",
      "Adding...                                                                       \n",
      "!\u001b[A\n",
      "Collecting files and computing hashes in data.csv     |0.00 [00:00,     ?file/s]\u001b[A\n",
      "                                                                                \u001b[A\n",
      "!\u001b[A\n",
      "  0% Checking cache in '/home/sagemaker-user/src/mlops-calories/notebooks/.dvc/c\u001b[A\n",
      "                                                                                \u001b[A\n",
      "!\u001b[A\n",
      "  0%|          |Checking out /home/sagemaker-user/src/0/1 [00:00<?,    ?files/s]\u001b[A\n",
      "100% Adding...|████████████████████████████████████████|1/1 [00:00, 29.57file/s]\u001b[A\n",
      "\n",
      "To track the changes with git, run:\n",
      "\n",
      "\tgit add data.csv.dvc\n",
      "\n",
      "To enable auto staging, run:\n",
      "\n",
      "\tdvc config core.autostage true\n",
      "\u001b[0m[master 0c645a6] Use calories_full.csv as data.csv for v2\n",
      " 1 file changed, 2 insertions(+), 2 deletions(-)\n",
      "fatal: tag 'v2' already exists\n"
     ]
    }
   ],
   "source": [
    "# Tag version 2 (v2) using calories_full.csv\n",
    "\n",
    "!cp calories_full.csv data.csv\n",
    "!dvc add data.csv\n",
    "!git add data.csv.dvc\n",
    "!git commit -m \"Use calories_full.csv as data.csv for v2\"\n",
    "!git tag v2\n"
   ]
  },
  {
   "cell_type": "code",
   "execution_count": 1,
   "id": "4b27656a-8e3e-491c-be73-6bb91315dd04",
   "metadata": {
    "editable": true,
    "execution": {
     "iopub.execute_input": "2025-08-18T22:14:11.756972Z",
     "iopub.status.busy": "2025-08-18T22:14:11.756677Z",
     "iopub.status.idle": "2025-08-18T22:14:11.764944Z",
     "shell.execute_reply": "2025-08-18T22:14:11.764021Z",
     "shell.execute_reply.started": "2025-08-18T22:14:11.756948Z"
    },
    "slideshow": {
     "slide_type": ""
    },
    "tags": []
   },
   "outputs": [],
   "source": [
    "# Compare Model Performance Between v1 and v2\n",
    "\n",
    "def train_and_evaluate(data_path):\n",
    "    import pandas as pd\n",
    "    from sklearn.model_selection import train_test_split\n",
    "    from sklearn.linear_model import LinearRegression\n",
    "    from sklearn.metrics import mean_absolute_error, mean_squared_error, r2_score\n",
    "\n",
    "    df = pd.read_csv(data_path)\n",
    "\n",
    "    if \"Calories\" not in df.columns:\n",
    "        raise ValueError(\"Expected 'Calories' column in the dataset.\")\n",
    "\n",
    "    X = df.drop(columns=[\"Calories\"])\n",
    "    y = df[\"Calories\"]\n",
    "\n",
    "    # One-hot encode categorical columns (e.g., \"Gender\")\n",
    "    X = pd.get_dummies(X)\n",
    "\n",
    "    # Train/test split\n",
    "    X_train, X_test, y_train, y_test = train_test_split(X, y, test_size=0.2, random_state=42)\n",
    "\n",
    "    model = LinearRegression()\n",
    "    model.fit(X_train, y_train)\n",
    "    y_pred = model.predict(X_test)\n",
    "\n",
    "    print(f\"MAE: {mean_absolute_error(y_test, y_pred):.2f}\")\n",
    "    print(f\"MSE: {mean_squared_error(y_test, y_pred):.2f}\")\n",
    "    print(f\"R²:  {r2_score(y_test, y_pred):.2f}\")\n",
    "\n",
    "    return {\n",
    "        \"MAE\": mean_absolute_error(y_test, y_pred),\n",
    "        \"MSE\": mean_squared_error(y_test, y_pred),\n",
    "        \"R2\": r2_score(y_test, y_pred)\n",
    "    }"
   ]
  },
  {
   "cell_type": "code",
   "execution_count": 2,
   "id": "82014ab8-c546-4080-b76d-649af72650ca",
   "metadata": {
    "execution": {
     "iopub.execute_input": "2025-08-18T22:14:16.745353Z",
     "iopub.status.busy": "2025-08-18T22:14:16.744967Z",
     "iopub.status.idle": "2025-08-18T22:14:16.749382Z",
     "shell.execute_reply": "2025-08-18T22:14:16.748482Z",
     "shell.execute_reply.started": "2025-08-18T22:14:16.745324Z"
    }
   },
   "outputs": [],
   "source": [
    "# Run models for v1 and v2"
   ]
  },
  {
   "cell_type": "code",
   "execution_count": 3,
   "id": "c34e39b1-77c0-44d1-bb00-30bdaf916761",
   "metadata": {
    "execution": {
     "iopub.execute_input": "2025-08-18T22:14:17.568782Z",
     "iopub.status.busy": "2025-08-18T22:14:17.568188Z",
     "iopub.status.idle": "2025-08-18T22:14:19.900232Z",
     "shell.execute_reply": "2025-08-18T22:14:19.899234Z",
     "shell.execute_reply.started": "2025-08-18T22:14:17.568746Z"
    }
   },
   "outputs": [
    {
     "name": "stdout",
     "output_type": "stream",
     "text": [
      "M\t.dvc/config\n",
      "Previous HEAD position was 8bffbc3 Use calories_full.csv as data.csv for v2\n",
      "HEAD is now at d0c9ec7 Use calories_v1.csv as data.csv for v1\n",
      "Collecting                                            |3.00 [00:00,  243entry/s]\n",
      "Fetching\n",
      "!\u001b[A\n",
      "  0% Checking cache in '/home/sagemaker-user/src/mlops-calories/notebooks/.dvc/c\u001b[A\n",
      "Fetching                                                                        \u001b[A\n",
      "Building workspace index                              |3.00 [00:00,  110entry/s]\n",
      "Comparing indexes                                    |4.00 [00:00, 1.95kentry/s]\n",
      "Applying changes                                      |1.00 [00:00,   964file/s]\n",
      "\u001b[33mM\u001b[0m       data.csv\n",
      "1 file modified\n",
      "\u001b[0m"
     ]
    }
   ],
   "source": [
    "!git checkout v1\n",
    "!dvc pull"
   ]
  },
  {
   "cell_type": "code",
   "execution_count": 4,
   "id": "0ea98791-f305-4cc4-81a6-fa3638d31066",
   "metadata": {
    "execution": {
     "iopub.execute_input": "2025-08-18T22:14:22.133650Z",
     "iopub.status.busy": "2025-08-18T22:14:22.133085Z",
     "iopub.status.idle": "2025-08-18T22:14:23.071077Z",
     "shell.execute_reply": "2025-08-18T22:14:23.070098Z",
     "shell.execute_reply.started": "2025-08-18T22:14:22.133614Z"
    }
   },
   "outputs": [
    {
     "name": "stdout",
     "output_type": "stream",
     "text": [
      "MAE: 8.49\n",
      "MSE: 134.86\n",
      "R²:  0.97\n"
     ]
    }
   ],
   "source": [
    "metrics_v1 = train_and_evaluate(\"data.csv\")"
   ]
  },
  {
   "cell_type": "code",
   "execution_count": 5,
   "id": "4671c97e-8551-4ef3-93e0-a495461f61e0",
   "metadata": {
    "execution": {
     "iopub.execute_input": "2025-08-18T22:14:29.628378Z",
     "iopub.status.busy": "2025-08-18T22:14:29.627996Z",
     "iopub.status.idle": "2025-08-18T22:14:31.389575Z",
     "shell.execute_reply": "2025-08-18T22:14:31.388488Z",
     "shell.execute_reply.started": "2025-08-18T22:14:29.628352Z"
    }
   },
   "outputs": [
    {
     "name": "stdout",
     "output_type": "stream",
     "text": [
      "M\t.dvc/config\n",
      "Previous HEAD position was d0c9ec7 Use calories_v1.csv as data.csv for v1\n",
      "HEAD is now at 8bffbc3 Use calories_full.csv as data.csv for v2\n",
      "Collecting                                            |3.00 [00:00,  250entry/s]\n",
      "Fetching\n",
      "!\u001b[A\n",
      "  0% Checking cache in '/home/sagemaker-user/src/mlops-calories/notebooks/.dvc/c\u001b[A\n",
      "Fetching                                                                        \u001b[A\n",
      "Building workspace index                              |3.00 [00:00,  408entry/s]\n",
      "Comparing indexes                                    |4.00 [00:00, 2.45kentry/s]\n",
      "Applying changes                                      |1.00 [00:00,   325file/s]\n",
      "\u001b[33mM\u001b[0m       data.csv\n",
      "1 file modified\n",
      "\u001b[0m"
     ]
    }
   ],
   "source": [
    "!git checkout v2\n",
    "!dvc pull"
   ]
  },
  {
   "cell_type": "code",
   "execution_count": 6,
   "id": "7d5d7ba1-e3f8-4c43-a13e-8d394790e232",
   "metadata": {
    "execution": {
     "iopub.execute_input": "2025-08-18T22:14:40.946184Z",
     "iopub.status.busy": "2025-08-18T22:14:40.945354Z",
     "iopub.status.idle": "2025-08-18T22:14:40.992823Z",
     "shell.execute_reply": "2025-08-18T22:14:40.991957Z",
     "shell.execute_reply.started": "2025-08-18T22:14:40.946148Z"
    }
   },
   "outputs": [
    {
     "name": "stdout",
     "output_type": "stream",
     "text": [
      "MAE: 8.44\n",
      "MSE: 132.07\n",
      "R²:  0.97\n"
     ]
    }
   ],
   "source": [
    "metrics_v2 = train_and_evaluate(\"data.csv\")"
   ]
  },
  {
   "cell_type": "code",
   "execution_count": 7,
   "id": "75e281a7-8db0-47c6-90f4-f108e4fab997",
   "metadata": {
    "execution": {
     "iopub.execute_input": "2025-08-18T22:14:53.436212Z",
     "iopub.status.busy": "2025-08-18T22:14:53.435850Z",
     "iopub.status.idle": "2025-08-18T22:14:53.441155Z",
     "shell.execute_reply": "2025-08-18T22:14:53.440278Z",
     "shell.execute_reply.started": "2025-08-18T22:14:53.436188Z"
    }
   },
   "outputs": [
    {
     "name": "stdout",
     "output_type": "stream",
     "text": [
      "===== Comparison =====\n",
      "MAE: v1 → 8.49, v2 → 8.44\n",
      "MSE: v1 → 134.86, v2 → 132.07\n",
      "R²:  v1 → 0.97, v2 → 0.97\n"
     ]
    }
   ],
   "source": [
    "print(\"===== Comparison =====\")\n",
    "print(f\"MAE: v1 → {metrics_v1['MAE']:.2f}, v2 → {metrics_v2['MAE']:.2f}\")\n",
    "print(f\"MSE: v1 → {metrics_v1['MSE']:.2f}, v2 → {metrics_v2['MSE']:.2f}\")\n",
    "print(f\"R²:  v1 → {metrics_v1['R2']:.2f}, v2 → {metrics_v2['R2']:.2f}\")"
   ]
  },
  {
   "cell_type": "code",
   "execution_count": 8,
   "id": "7282d0d9-2bfa-422c-ae0f-c472d3b39a60",
   "metadata": {
    "execution": {
     "iopub.execute_input": "2025-08-18T22:14:56.000909Z",
     "iopub.status.busy": "2025-08-18T22:14:56.000497Z",
     "iopub.status.idle": "2025-08-18T22:14:56.007246Z",
     "shell.execute_reply": "2025-08-18T22:14:56.005945Z",
     "shell.execute_reply.started": "2025-08-18T22:14:56.000867Z"
    }
   },
   "outputs": [
    {
     "name": "stdout",
     "output_type": "stream",
     "text": [
      "===== Comparison =====\n",
      "R²:  v1 → 0.97, v2 → 0.97\n",
      "MAE: v1 → 8.49, v2 → 8.44\n",
      "RMSE: v1 → 11.61, v2 → 11.49\n"
     ]
    }
   ],
   "source": [
    "print(\"===== Comparison =====\")\n",
    "print(f\"R²:  v1 → {metrics_v1['R2']:.2f}, v2 → {metrics_v2['R2']:.2f}\")\n",
    "print(f\"MAE: v1 → {metrics_v1['MAE']:.2f}, v2 → {metrics_v2['MAE']:.2f}\")\n",
    "print(f\"RMSE: v1 → {metrics_v1['MSE']**0.5:.2f}, v2 → {metrics_v2['MSE']**0.5:.2f}\")"
   ]
  },
  {
   "cell_type": "code",
   "execution_count": 9,
   "id": "837ffc1b-9876-4fa5-a55f-0980561333e4",
   "metadata": {
    "execution": {
     "iopub.execute_input": "2025-08-18T22:15:03.055571Z",
     "iopub.status.busy": "2025-08-18T22:15:03.052147Z",
     "iopub.status.idle": "2025-08-18T22:15:03.845647Z",
     "shell.execute_reply": "2025-08-18T22:15:03.844829Z",
     "shell.execute_reply.started": "2025-08-18T22:15:03.055539Z"
    }
   },
   "outputs": [
    {
     "data": {
      "image/png": "[encoded data removed]",
      "text/plain": [
       "<Figure size 800x500 with 1 Axes>"
      ]
     },
     "metadata": {},
     "output_type": "display_data"
    }
   ],
   "source": [
    "import matplotlib.pyplot as plt\n",
    "\n",
    "# Extract metrics\n",
    "metrics = [\"MAE\", \"MSE\", \"R2\"]\n",
    "v1_scores = [metrics_v1[\"MAE\"], metrics_v1[\"MSE\"], metrics_v1[\"R2\"]]\n",
    "v2_scores = [metrics_v2[\"MAE\"], metrics_v2[\"MSE\"], metrics_v2[\"R2\"]]\n",
    "\n",
    "x = range(len(metrics))\n",
    "\n",
    "plt.figure(figsize=(8, 5))\n",
    "bar_width = 0.35\n",
    "\n",
    "# Bar plots for v1 and v2\n",
    "plt.bar([i - bar_width/2 for i in x], v1_scores, width=bar_width, label=\"v1\", color=\"skyblue\")\n",
    "plt.bar([i + bar_width/2 for i in x], v2_scores, width=bar_width, label=\"v2\", color=\"salmon\")\n",
    "\n",
    "# Chart labels\n",
    "plt.xticks(x, metrics)\n",
    "plt.ylabel(\"Score\")\n",
    "plt.title(\"Model Performance Comparison (v1 vs v2)\")\n",
    "plt.legend()\n",
    "plt.grid(axis=\"y\", linestyle=\"--\", alpha=0.6)\n",
    "\n",
    "# Annotate values\n",
    "for i in range(len(metrics)):\n",
    "    plt.text(i - bar_width/2, v1_scores[i] + 0.5, f\"{v1_scores[i]:.2f}\", ha='center', fontsize=9)\n",
    "    plt.text(i + bar_width/2, v2_scores[i] + 0.5, f\"{v2_scores[i]:.2f}\", ha='center', fontsize=9)\n",
    "\n",
    "plt.tight_layout()\n",
    "plt.show()\n"
   ]
  },
  {
   "cell_type": "code",
   "execution_count": 10,
   "id": "e11fa815-566d-4606-91d0-135716c06fe2",
   "metadata": {
    "editable": true,
    "execution": {
     "iopub.execute_input": "2025-08-18T22:15:05.110416Z",
     "iopub.status.busy": "2025-08-18T22:15:05.110035Z",
     "iopub.status.idle": "2025-08-18T22:15:05.574980Z",
     "shell.execute_reply": "2025-08-18T22:15:05.574072Z",
     "shell.execute_reply.started": "2025-08-18T22:15:05.110383Z"
    },
    "slideshow": {
     "slide_type": ""
    },
    "tags": []
   },
   "outputs": [
    {
     "data": {
      "image/png": "[encoded data removed]",
      "text/plain": [
       "<Figure size 800x500 with 1 Axes>"
      ]
     },
     "metadata": {},
     "output_type": "display_data"
    }
   ],
   "source": [
    "import matplotlib.pyplot as plt\n",
    "import numpy as np\n",
    "\n",
    "# Data\n",
    "metrics = [\"MAE\", \"MSE\", \"R2\"]\n",
    "v1_scores = [metrics_v1[\"MAE\"], metrics_v1[\"MSE\"], metrics_v1[\"R2\"]]\n",
    "v2_scores = [metrics_v2[\"MAE\"], metrics_v2[\"MSE\"], metrics_v2[\"R2\"]]\n",
    "\n",
    "x = np.arange(len(metrics))\n",
    "bar_width = 0.35\n",
    "\n",
    "# Plot\n",
    "fig, ax = plt.subplots(figsize=(8, 5))\n",
    "bars1 = ax.bar(x - bar_width/2, v1_scores, width=bar_width, label='v1', color='skyblue')\n",
    "bars2 = ax.bar(x + bar_width/2, v2_scores, width=bar_width, label='v2', color='salmon')\n",
    "\n",
    "# Labels\n",
    "ax.set_title(\"Model Performance Comparison (v1 vs v2)\")\n",
    "ax.set_xticks(x)\n",
    "ax.set_xticklabels(metrics)\n",
    "ax.set_ylabel(\"Score\")\n",
    "ax.legend()\n",
    "\n",
    "# Add bar value labels\n",
    "for i in range(len(metrics)):\n",
    "    ax.text(x[i] - bar_width/2, v1_scores[i] + 1, f\"{v1_scores[i]:.2f}\", ha='center')\n",
    "    ax.text(x[i] + bar_width/2, v2_scores[i] + 1, f\"{v2_scores[i]:.2f}\", ha='center')\n",
    "\n",
    "# Save figure BEFORE show\n",
    "fig.tight_layout()\n",
    "fig.savefig(\"metrics_comparison.png\", dpi=300, bbox_inches='tight')  # Save to current directory\n",
    "plt.show()\n"
   ]
  },
  {
   "cell_type": "code",
   "execution_count": 11,
   "id": "5437c6d3-cf72-4151-811d-98f4fca7d46f",
   "metadata": {
    "editable": true,
    "execution": {
     "iopub.execute_input": "2025-08-18T22:15:07.360612Z",
     "iopub.status.busy": "2025-08-18T22:15:07.359621Z",
     "iopub.status.idle": "2025-08-18T22:15:07.813766Z",
     "shell.execute_reply": "2025-08-18T22:15:07.813033Z",
     "shell.execute_reply.started": "2025-08-18T22:15:07.360582Z"
    },
    "slideshow": {
     "slide_type": ""
    },
    "tags": []
   },
   "outputs": [
    {
     "data": {
      "image/png": "[encoded data removed]",
      "text/plain": [
       "<Figure size 800x500 with 1 Axes>"
      ]
     },
     "metadata": {},
     "output_type": "display_data"
    }
   ],
   "source": [
    "import matplotlib.pyplot as plt\n",
    "import numpy as np\n",
    "\n",
    "# Data (reorder + compute RMSE from MSE)\n",
    "metrics = [\"R2\", \"MAE\", \"RMSE\"]\n",
    "v1_scores = [metrics_v1[\"R2\"], metrics_v1[\"MAE\"], metrics_v1[\"MSE\"]**0.5]\n",
    "v2_scores = [metrics_v2[\"R2\"], metrics_v2[\"MAE\"], metrics_v2[\"MSE\"]**0.5]\n",
    "\n",
    "x = np.arange(len(metrics))\n",
    "bar_width = 0.35\n",
    "\n",
    "# Plot\n",
    "fig, ax = plt.subplots(figsize=(8, 5))\n",
    "bars1 = ax.bar(x - bar_width/2, v1_scores, width=bar_width, label='v1', color='skyblue')\n",
    "bars2 = ax.bar(x + bar_width/2, v2_scores, width=bar_width, label='v2', color='salmon')\n",
    "\n",
    "# Labels\n",
    "ax.set_title(\"Model Performance Comparison (v1 vs v2)\")\n",
    "ax.set_xticks(x)\n",
    "ax.set_xticklabels(metrics)\n",
    "ax.set_ylabel(\"Score\")\n",
    "ax.legend()\n",
    "\n",
    "# Add bar value labels\n",
    "for i in range(len(metrics)):\n",
    "    ax.text(x[i] - bar_width/2, v1_scores[i] + 0.01, f\"{v1_scores[i]:.2f}\", ha='center')\n",
    "    ax.text(x[i] + bar_width/2, v2_scores[i] + 0.01, f\"{v2_scores[i]:.2f}\", ha='center')\n",
    "\n",
    "# Save figure BEFORE show\n",
    "fig.tight_layout()\n",
    "fig.savefig(\"metrics_comparison.png\", dpi=300, bbox_inches='tight')\n",
    "plt.show()"
   ]
  },
  {
   "cell_type": "code",
   "execution_count": null,
   "id": "e5297335-2e62-4ce1-ba18-67e00ff72ec3",
   "metadata": {},
   "outputs": [],
   "source": []
  }
 ],
 "metadata": {
  "kernelspec": {
   "display_name": "Python 3 (ipykernel)",
   "language": "python",
   "name": "python3"
  },
  "language_info": {
   "codemirror_mode": {
    "name": "ipython",
    "version": 3
   },
   "file_extension": ".py",
   "mimetype": "text/x-python",
   "name": "python",
   "nbconvert_exporter": "python",
   "pygments_lexer": "ipython3",
   "version": "3.11.11"
  }
 },
 "nbformat": 4,
 "nbformat_minor": 5
}
